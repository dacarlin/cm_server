{
 "cells": [
  {
   "cell_type": "code",
   "execution_count": 1,
   "metadata": {
    "collapsed": true
   },
   "outputs": [],
   "source": [
    "url = 'http://www.ebi.ac.uk/Tools/hmmer/search/phmmer'"
   ]
  },
  {
   "cell_type": "code",
   "execution_count": 2,
   "metadata": {
    "collapsed": true
   },
   "outputs": [],
   "source": []
  },
  {
   "cell_type": "code",
   "execution_count": 31,
   "metadata": {
    "collapsed": false
   },
   "outputs": [
    {
     "name": "stdout",
     "output_type": "stream",
     "text": [
      "Content-Type application/json had a problem with your request.\r\n",
      "***ERROR***\r\n",
      "JSON text must be an object or array (but found number, string, true, false or null, use allow_nonref to allow this) at /nfs/public/rw/xfam/hmmer/live/perl5/lib/perl5/Catalyst/Action/Deserialize/JSON.pm line 38, <$fh> line 1.\n",
      "\n"
     ]
    }
   ],
   "source": [
    "import requests\n",
    "import json \n",
    "\n",
    "with open( 'example.fasta' ) as fn:\n",
    "    raw = fn.readlines()[1]\n",
    "\n",
    "db = 'pdb' \n",
    "\n",
    "content = { \n",
    "    'seqdb': db, \n",
    "    'content': \"<![CDATA[{}]]>\".format( raw )\n",
    "} \n",
    "\n",
    "j = json.encoder?\n",
    "\n",
    "#requests.post?\n",
    "#r = requests.post( url, json=j, content='application/json' ) \n",
    "requests.post?\n",
    "print r.text\n",
    "\n",
    "#Now post it off\n",
    "#my $response = $ua->post( $host.$search, 'content-type' => 'text/xml', Content => $xml );"
   ]
  },
  {
   "cell_type": "code",
   "execution_count": null,
   "metadata": {
    "collapsed": true
   },
   "outputs": [],
   "source": [
    "j = json.encoder"
   ]
  },
  {
   "cell_type": "code",
   "execution_count": null,
   "metadata": {
    "collapsed": true
   },
   "outputs": [],
   "source": [
    "j = json.encoder"
   ]
  },
  {
   "cell_type": "code",
   "execution_count": null,
   "metadata": {
    "collapsed": true
   },
   "outputs": [],
   "source": []
  }
 ],
 "metadata": {
  "kernelspec": {
   "display_name": "Python 2",
   "language": "python",
   "name": "python2"
  },
  "language_info": {
   "codemirror_mode": {
    "name": "ipython",
    "version": 2
   },
   "file_extension": ".py",
   "mimetype": "text/x-python",
   "name": "python",
   "nbconvert_exporter": "python",
   "pygments_lexer": "ipython2",
   "version": "2.7.11"
  }
 },
 "nbformat": 4,
 "nbformat_minor": 0
}
